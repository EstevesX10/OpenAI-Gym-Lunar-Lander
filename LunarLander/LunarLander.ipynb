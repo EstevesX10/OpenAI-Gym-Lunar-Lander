{
 "cells": [
  {
   "cell_type": "markdown",
   "id": "4b017f3e-1a96-461f-a4e7-592c33e99de8",
   "metadata": {},
   "source": [
    "---\n",
    "<div align = \"center\">\n",
    "\n",
    "# Lunar Lander\n",
    "</div>\n",
    "\n",
    "---\n",
    "\n",
    "---\n",
    "<div align=\"center\">\n",
    "\n",
    "## Project Overview\n",
    "</div>\n",
    "\n",
    "---\n",
    "\n",
    "This project explores the impact of customizing an ``OpenAI Gym Environment`` on **reinforcement learning (RL) performance**. We modified an existing Gym environment - Lunar Lander - in order to train an RL agent using the Stable Baselines library, and later compare results between the **customized and original environments**.\n",
    "\n",
    "The process involves:\n",
    "\n",
    "- **Environment Customization**: **Implement changes** such as altered rewards or added challenges to the Environment.\n",
    "- **Agent Training**: Train an RL agent with **algorithms like PPO** and further **tune their hyperparameters** to ensure optimal performance.\n",
    "- **Evaluation**: **Compare agent performance** in both environments to analyze the effect of the customizations.\n",
    "\n",
    "This project aims to analyse **how does the environment design influence the outcomes of a Reinforcement Learning Algorithm**.\n",
    "\n",
    "---\n",
    "## Dependencies\n",
    "---"
   ]
  },
  {
   "cell_type": "code",
   "execution_count": null,
   "id": "afdb5727-86af-42b7-8e15-5c0cf3dbd367",
   "metadata": {},
   "outputs": [],
   "source": [
    "%load_ext autoreload\n",
    "%autoreload 2"
   ]
  },
  {
   "cell_type": "code",
   "execution_count": null,
   "id": "87299ec2-3baf-448d-8fe4-767d6bfe5a82",
   "metadata": {},
   "outputs": [],
   "source": [
    "# Remove Warnings\n",
    "import warnings\n",
    "warnings.filterwarnings('ignore')"
   ]
  },
  {
   "cell_type": "code",
   "execution_count": null,
   "id": "88d04ea2",
   "metadata": {},
   "outputs": [],
   "source": [
    "import gymnasium as gym\n",
    "import numpy as np\n",
    "import math\n",
    "\n",
    "from stable_baselines3 import (PPO)\n",
    "from stable_baselines3.common.env_util import (make_vec_env)\n",
    "from stable_baselines3.common.vec_env import (SubprocVecEnv)\n",
    "\n",
    "from Configuration import (CONFIG, PATHS_CONFIG,\n",
    "                            PPO_SETTINGS_1)\n",
    "from Environment import (MyLunarLander)"
   ]
  },
  {
   "cell_type": "markdown",
   "id": "ccc30c48-952f-4872-bcfb-b0ce2a916595",
   "metadata": {},
   "source": [
    "---\n",
    "## Original Environment\n",
    "---\n",
    "\n",
    "Initially let's create the Original Lunar Lander Environment and define a Reinforcement Learning Model to be trained."
   ]
  },
  {
   "cell_type": "code",
   "execution_count": null,
   "id": "942452e0-f7e7-4baf-88e3-43f71a8ec5c3",
   "metadata": {},
   "outputs": [],
   "source": [
    "# USED TO CHECK IF THE ENVIRONMENT IS WORKING\n",
    "\n",
    "# Create a new instance of the Environment\n",
    "env = gym.make(\"LunarLander\", render_mode=\"human\")\n",
    "\n",
    "# Reset the Environment - To get the initial observation\n",
    "observation, info = env.reset()\n",
    "\n",
    "# Define a flag to determine if the episode is over or not\n",
    "episode_over = False\n",
    "\n",
    "# PerfORM a Episode\n",
    "while not episode_over:\n",
    "    # Choose a random action\n",
    "    action = env.action_space.sample()  # agent policy that uses the observation and info\n",
    "\n",
    "    # Perform a Action / Step\n",
    "    observation, reward, terminated, truncated, info = env.step(action)\n",
    "\n",
    "    # Update if the episode is over\n",
    "    episode_over = terminated or truncated\n",
    "\n",
    "# Close the Environment\n",
    "env.close()"
   ]
  },
  {
   "cell_type": "markdown",
   "id": "4a4588c8-bfd0-49e7-a3bb-9196598e5400",
   "metadata": {},
   "source": [
    "---\n",
    "### PPO (Setting 1)\n",
    "---"
   ]
  },
  {
   "cell_type": "code",
   "execution_count": null,
   "id": "b6e5a943-c8be-474c-a374-0e83a210f966",
   "metadata": {
    "scrolled": true
   },
   "outputs": [],
   "source": [
    "# Create a Environment\n",
    "envs = make_vec_env('LunarLander', n_envs=CONFIG['N_ENVS'], seed=0, vec_env_cls=SubprocVecEnv)\n",
    "\n",
    "# Define a RL Model\n",
    "model = PPO(policy=\"MlpPolicy\", env=envs, device='cpu', verbose=1, **PPO_SETTINGS_1)\n",
    "\n",
    "# Train the Model\n",
    "model.learn(CONFIG['N_ITERATIONS'], progress_bar=True)\n",
    "\n",
    "# Close the Environment\n",
    "envs.close()"
   ]
  },
  {
   "cell_type": "code",
   "execution_count": null,
   "id": "820e2db0-a1b7-4aec-954b-41e19a638b43",
   "metadata": {},
   "outputs": [],
   "source": [
    "# DEMO\n",
    "\n",
    "# Define a Environment\n",
    "env = gym.make(\"LunarLander\", render_mode=\"human\")\n",
    "\n",
    "# Perform N Episodes\n",
    "for ep in range(CONFIG['N_EPISODES']):\n",
    "    obs, info = env.reset()\n",
    "    trunc = False\n",
    "    while not trunc:\n",
    "        # pass observation to model to get predicted action\n",
    "        action, _states = model.predict(obs)\n",
    "\n",
    "        # pass action to env and get info back\n",
    "        obs, rewards, trunc, done, info = env.step(action)\n",
    "\n",
    "        # show the environment on the screen\n",
    "        env.render()\n",
    "        print(ep, rewards, trunc)\n",
    "        print(\"---------------\")\n",
    "\n",
    "# Close the Environment\n",
    "env.close()"
   ]
  },
  {
   "cell_type": "markdown",
   "id": "928fbb05-523f-41e7-b83a-700f526e5875",
   "metadata": {},
   "source": [
    "---\n",
    "## Custom Environment\n",
    "---"
   ]
  },
  {
   "cell_type": "code",
   "execution_count": null,
   "id": "a90d15de",
   "metadata": {},
   "outputs": [],
   "source": [
    "# USED TO CHECK IF THE ENVIRONMENT IS WORKING\n",
    "\n",
    "# Register the Custom Environment\n",
    "gym.register(\n",
    "    id=\"MyLunarLander\",\n",
    "    entry_point=MyLunarLander,\n",
    ")\n",
    "\n",
    "# Create a new instance of the Environment\n",
    "env = gym.make(\"MyLunarLander\", render_mode=\"human\")\n",
    "\n",
    "# Reset the Environment - To get the initial observation\n",
    "observation, info = env.reset()\n",
    "\n",
    "# Define a flag to determine if the episode is over or not\n",
    "episode_over = False\n",
    "\n",
    "# PerfORM a Episode\n",
    "while not episode_over:\n",
    "    # Choose a random action\n",
    "    action = env.action_space.sample()  # agent policy that uses the observation and info\n",
    "\n",
    "    # Perform a Action / Step\n",
    "    observation, reward, terminated, truncated, info = env.step(action)\n",
    "\n",
    "    # Update if the episode is over\n",
    "    episode_over = terminated or truncated\n",
    "\n",
    "# Close the Environment\n",
    "env.close()"
   ]
  },
  {
   "cell_type": "markdown",
   "id": "4d2a2430-c4ff-4521-9b8c-b3999a574094",
   "metadata": {},
   "source": [
    "---\n",
    "### PPO (Setting 1)\n",
    "---"
   ]
  },
  {
   "cell_type": "code",
   "execution_count": null,
   "id": "95133593",
   "metadata": {},
   "outputs": [],
   "source": [
    "# Create a Environment\n",
    "envs = make_vec_env(MyLunarLander, n_envs=CONFIG['N_ENVS'], seed=0, vec_env_cls=SubprocVecEnv)\n",
    "\n",
    "# Define a RL Model\n",
    "model = PPO(policy=\"MlpPolicy\", env=envs, device='cpu', verbose=1, **PPO_SETTINGS_1)\n",
    "\n",
    "# Train the Model\n",
    "model.learn(CONFIG['N_ITERATIONS'], progress_bar=True)\n",
    "\n",
    "# Close the Environment\n",
    "envs.close()"
   ]
  },
  {
   "cell_type": "code",
   "execution_count": null,
   "id": "cfb6ead3",
   "metadata": {},
   "outputs": [],
   "source": [
    "# DEMO\n",
    "\n",
    "# Define a Environment\n",
    "env = gym.make(\"MyLunarLander\", render_mode=\"human\")\n",
    "\n",
    "# Perform N Episodes\n",
    "for ep in range(CONFIG['N_EPISODES']):\n",
    "    obs, info = env.reset()\n",
    "    trunc = False\n",
    "    while not trunc:\n",
    "        # pass observation to model to get predicted action\n",
    "        action, _states = model.predict(obs)\n",
    "\n",
    "        # pass action to env and get info back\n",
    "        obs, rewards, trunc, done, info = env.step(action)\n",
    "\n",
    "        # show the environment on the screen\n",
    "        env.render()\n",
    "        print(ep, rewards, trunc)\n",
    "        print(\"---------------\")\n",
    "\n",
    "# Close the Environment\n",
    "env.close()"
   ]
  },
  {
   "cell_type": "markdown",
   "id": "f4fbf8fa-6b62-4e58-9e9e-de098a3672a1",
   "metadata": {},
   "source": [
    "---\n",
    "### REMENDOS\n",
    "---"
   ]
  },
  {
   "cell_type": "code",
   "execution_count": null,
   "id": "34ebdb51",
   "metadata": {},
   "outputs": [],
   "source": [
    "# Evaluating the DQN Model after Trainning\n",
    "mean_reward, std_reward = evaluate_policy(model_DQN, env, n_eval_episodes=5, render=True)\n",
    "print(\"-> DQN\")\n",
    "print(\"Mean Reward: {}\\nStandard Deviation: {}\".format(mean_reward, std_reward))\n",
    "env.close()"
   ]
  },
  {
   "cell_type": "code",
   "execution_count": null,
   "id": "29afe426",
   "metadata": {},
   "outputs": [],
   "source": [
    "# Saving Trained Models\n",
    "model_DQN.save(\"./Models/DQN_Lunar\")\n",
    "model_ACER.save(\"./Models/ACER_Lunar\")"
   ]
  },
  {
   "cell_type": "code",
   "execution_count": null,
   "id": "ba49c134",
   "metadata": {},
   "outputs": [],
   "source": [
    "# Deleting the Models so that we can later load them\n",
    "del model_DQN\n",
    "del model_ACER"
   ]
  },
  {
   "cell_type": "code",
   "execution_count": null,
   "id": "d90769c1",
   "metadata": {},
   "outputs": [],
   "source": [
    "# Loading the Previouly Saved Models\n",
    "model_DQN = DQN.load(\"./Models/DQN_Lunar.zip\")\n",
    "model_ACER = ACER.load(\"./Models/ACER_Lunar.zip\")"
   ]
  }
 ],
 "metadata": {
  "kernelspec": {
   "display_name": "gym",
   "language": "python",
   "name": "gym"
  },
  "language_info": {
   "codemirror_mode": {
    "name": "ipython",
    "version": 3
   },
   "file_extension": ".py",
   "mimetype": "text/x-python",
   "name": "python",
   "nbconvert_exporter": "python",
   "pygments_lexer": "ipython3",
   "version": "3.10.12"
  }
 },
 "nbformat": 4,
 "nbformat_minor": 5
}
